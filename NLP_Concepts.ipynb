{
  "nbformat": 4,
  "nbformat_minor": 0,
  "metadata": {
    "colab": {
      "provenance": [],
      "authorship_tag": "ABX9TyOYQCUoCrRdhjYjmrCYmYBA",
      "include_colab_link": true
    },
    "kernelspec": {
      "name": "python3",
      "display_name": "Python 3"
    },
    "language_info": {
      "name": "python"
    }
  },
  "cells": [
    {
      "cell_type": "markdown",
      "metadata": {
        "id": "view-in-github",
        "colab_type": "text"
      },
      "source": [
        "<a href=\"https://colab.research.google.com/github/shreyasbhojane10/Artificial-Intelligence/blob/main/NLP_Concepts.ipynb\" target=\"_parent\"><img src=\"https://colab.research.google.com/assets/colab-badge.svg\" alt=\"Open In Colab\"/></a>"
      ]
    },
    {
      "cell_type": "markdown",
      "source": [
        "# NLP: Natural Language Processing"
      ],
      "metadata": {
        "id": "LNs7Nd1Gwnqp"
      }
    },
    {
      "cell_type": "markdown",
      "source": [
        "**Two sections:**\n",
        "1.  Natural Language Understanding(model understanding)\n",
        "2.  Natural Language Generation(model generates new content)\n"
      ],
      "metadata": {
        "id": "Huwy29oCwtSK"
      }
    },
    {
      "cell_type": "markdown",
      "source": [
        "**## Embedding**"
      ],
      "metadata": {
        "id": "rqBx1yzxxATn"
      }
    },
    {
      "cell_type": "markdown",
      "source": [
        "# Text Cleaning:\n",
        "    converting the text content into lowercase [ ABC -> abc ]\n",
        "    removal of punctuation marks, special characters [ !#@% ]\n",
        "    removal of stopwords    [a, the, are, they, him, etc]\n",
        "\n",
        "  **Stopwords:**\n",
        "    Words that are meaningful for sentence formation but not really necessary for our model to learn are referred as stop words.\n",
        "Example: a,again,against,are,and ....\n",
        "To avoid complexity, we can remove the stopwords."
      ],
      "metadata": {
        "id": "K0Y-nmHpxU5S"
      }
    },
    {
      "cell_type": "markdown",
      "source": [
        "# Tokenization:"
      ],
      "metadata": {
        "id": "YNnEv81jzN6N"
      }
    },
    {
      "cell_type": "markdown",
      "source": [
        "    Converting the words into characters representing tokens\n",
        "    Converting the sentences into words representing  tokens\n",
        "    Converting the paragraphs into sentences representing tokens"
      ],
      "metadata": {
        "id": "7JJdXz3czYzz"
      }
    },
    {
      "cell_type": "markdown",
      "source": [
        "#NLTK\n",
        "NLTK - Natural Language Tool Kit is a library that contains all the necessary packages required to handle NLU"
      ],
      "metadata": {
        "id": "mZOxGBxnPDZk"
      }
    },
    {
      "cell_type": "code",
      "source": [
        "pip install nltk"
      ],
      "metadata": {
        "colab": {
          "base_uri": "https://localhost:8080/"
        },
        "id": "7ZRE0GUlxSdQ",
        "outputId": "15e3f58a-4953-4b87-8c79-830151eeb1ad"
      },
      "execution_count": 3,
      "outputs": [
        {
          "output_type": "stream",
          "name": "stdout",
          "text": [
            "Requirement already satisfied: nltk in /usr/local/lib/python3.12/dist-packages (3.9.1)\n",
            "Requirement already satisfied: click in /usr/local/lib/python3.12/dist-packages (from nltk) (8.2.1)\n",
            "Requirement already satisfied: joblib in /usr/local/lib/python3.12/dist-packages (from nltk) (1.5.2)\n",
            "Requirement already satisfied: regex>=2021.8.3 in /usr/local/lib/python3.12/dist-packages (from nltk) (2024.11.6)\n",
            "Requirement already satisfied: tqdm in /usr/local/lib/python3.12/dist-packages (from nltk) (4.67.1)\n"
          ]
        }
      ]
    },
    {
      "cell_type": "code",
      "source": [
        "import os\n",
        "import nltk\n",
        "import nltk.corpus     # Corpus is like datasets-you can select anyone from below list\n",
        "nltk.download('all')   # Here I've taken all but you can import seperate one also"
      ],
      "metadata": {
        "colab": {
          "base_uri": "https://localhost:8080/"
        },
        "id": "R2JWnLv3PS00",
        "outputId": "033ad6b1-63c9-4995-f191-b00347e85db5"
      },
      "execution_count": 4,
      "outputs": [
        {
          "output_type": "stream",
          "name": "stderr",
          "text": [
            "[nltk_data] Downloading collection 'all'\n",
            "[nltk_data]    | \n",
            "[nltk_data]    | Downloading package abc to /root/nltk_data...\n",
            "[nltk_data]    |   Unzipping corpora/abc.zip.\n",
            "[nltk_data]    | Downloading package alpino to /root/nltk_data...\n",
            "[nltk_data]    |   Unzipping corpora/alpino.zip.\n",
            "[nltk_data]    | Downloading package averaged_perceptron_tagger to\n",
            "[nltk_data]    |     /root/nltk_data...\n",
            "[nltk_data]    |   Unzipping taggers/averaged_perceptron_tagger.zip.\n",
            "[nltk_data]    | Downloading package averaged_perceptron_tagger_eng to\n",
            "[nltk_data]    |     /root/nltk_data...\n",
            "[nltk_data]    |   Unzipping\n",
            "[nltk_data]    |       taggers/averaged_perceptron_tagger_eng.zip.\n",
            "[nltk_data]    | Downloading package averaged_perceptron_tagger_ru to\n",
            "[nltk_data]    |     /root/nltk_data...\n",
            "[nltk_data]    |   Unzipping\n",
            "[nltk_data]    |       taggers/averaged_perceptron_tagger_ru.zip.\n",
            "[nltk_data]    | Downloading package averaged_perceptron_tagger_rus to\n",
            "[nltk_data]    |     /root/nltk_data...\n",
            "[nltk_data]    |   Unzipping\n",
            "[nltk_data]    |       taggers/averaged_perceptron_tagger_rus.zip.\n",
            "[nltk_data]    | Downloading package basque_grammars to\n",
            "[nltk_data]    |     /root/nltk_data...\n",
            "[nltk_data]    |   Unzipping grammars/basque_grammars.zip.\n",
            "[nltk_data]    | Downloading package bcp47 to /root/nltk_data...\n",
            "[nltk_data]    | Downloading package biocreative_ppi to\n",
            "[nltk_data]    |     /root/nltk_data...\n",
            "[nltk_data]    |   Unzipping corpora/biocreative_ppi.zip.\n",
            "[nltk_data]    | Downloading package bllip_wsj_no_aux to\n",
            "[nltk_data]    |     /root/nltk_data...\n",
            "[nltk_data]    |   Unzipping models/bllip_wsj_no_aux.zip.\n",
            "[nltk_data]    | Downloading package book_grammars to\n",
            "[nltk_data]    |     /root/nltk_data...\n",
            "[nltk_data]    |   Unzipping grammars/book_grammars.zip.\n",
            "[nltk_data]    | Downloading package brown to /root/nltk_data...\n",
            "[nltk_data]    |   Unzipping corpora/brown.zip.\n",
            "[nltk_data]    | Downloading package brown_tei to /root/nltk_data...\n",
            "[nltk_data]    |   Unzipping corpora/brown_tei.zip.\n",
            "[nltk_data]    | Downloading package cess_cat to /root/nltk_data...\n",
            "[nltk_data]    |   Unzipping corpora/cess_cat.zip.\n",
            "[nltk_data]    | Downloading package cess_esp to /root/nltk_data...\n",
            "[nltk_data]    |   Unzipping corpora/cess_esp.zip.\n",
            "[nltk_data]    | Downloading package chat80 to /root/nltk_data...\n",
            "[nltk_data]    |   Unzipping corpora/chat80.zip.\n",
            "[nltk_data]    | Downloading package city_database to\n",
            "[nltk_data]    |     /root/nltk_data...\n",
            "[nltk_data]    |   Unzipping corpora/city_database.zip.\n",
            "[nltk_data]    | Downloading package cmudict to /root/nltk_data...\n",
            "[nltk_data]    |   Unzipping corpora/cmudict.zip.\n",
            "[nltk_data]    | Downloading package comparative_sentences to\n",
            "[nltk_data]    |     /root/nltk_data...\n",
            "[nltk_data]    |   Unzipping corpora/comparative_sentences.zip.\n",
            "[nltk_data]    | Downloading package comtrans to /root/nltk_data...\n",
            "[nltk_data]    | Downloading package conll2000 to /root/nltk_data...\n",
            "[nltk_data]    |   Unzipping corpora/conll2000.zip.\n",
            "[nltk_data]    | Downloading package conll2002 to /root/nltk_data...\n",
            "[nltk_data]    |   Unzipping corpora/conll2002.zip.\n",
            "[nltk_data]    | Downloading package conll2007 to /root/nltk_data...\n",
            "[nltk_data]    | Downloading package crubadan to /root/nltk_data...\n",
            "[nltk_data]    |   Unzipping corpora/crubadan.zip.\n",
            "[nltk_data]    | Downloading package dependency_treebank to\n",
            "[nltk_data]    |     /root/nltk_data...\n",
            "[nltk_data]    |   Unzipping corpora/dependency_treebank.zip.\n",
            "[nltk_data]    | Downloading package dolch to /root/nltk_data...\n",
            "[nltk_data]    |   Unzipping corpora/dolch.zip.\n",
            "[nltk_data]    | Downloading package english_wordnet to\n",
            "[nltk_data]    |     /root/nltk_data...\n",
            "[nltk_data]    |   Unzipping corpora/english_wordnet.zip.\n",
            "[nltk_data]    | Downloading package europarl_raw to\n",
            "[nltk_data]    |     /root/nltk_data...\n",
            "[nltk_data]    |   Unzipping corpora/europarl_raw.zip.\n",
            "[nltk_data]    | Downloading package extended_omw to\n",
            "[nltk_data]    |     /root/nltk_data...\n",
            "[nltk_data]    | Downloading package floresta to /root/nltk_data...\n",
            "[nltk_data]    |   Unzipping corpora/floresta.zip.\n",
            "[nltk_data]    | Downloading package framenet_v15 to\n",
            "[nltk_data]    |     /root/nltk_data...\n",
            "[nltk_data]    |   Unzipping corpora/framenet_v15.zip.\n",
            "[nltk_data]    | Downloading package framenet_v17 to\n",
            "[nltk_data]    |     /root/nltk_data...\n",
            "[nltk_data]    |   Unzipping corpora/framenet_v17.zip.\n",
            "[nltk_data]    | Downloading package gazetteers to /root/nltk_data...\n",
            "[nltk_data]    |   Unzipping corpora/gazetteers.zip.\n",
            "[nltk_data]    | Downloading package genesis to /root/nltk_data...\n",
            "[nltk_data]    |   Unzipping corpora/genesis.zip.\n",
            "[nltk_data]    | Downloading package gutenberg to /root/nltk_data...\n",
            "[nltk_data]    |   Unzipping corpora/gutenberg.zip.\n",
            "[nltk_data]    | Downloading package ieer to /root/nltk_data...\n",
            "[nltk_data]    |   Unzipping corpora/ieer.zip.\n",
            "[nltk_data]    | Downloading package inaugural to /root/nltk_data...\n",
            "[nltk_data]    |   Unzipping corpora/inaugural.zip.\n",
            "[nltk_data]    | Downloading package indian to /root/nltk_data...\n",
            "[nltk_data]    |   Unzipping corpora/indian.zip.\n",
            "[nltk_data]    | Downloading package jeita to /root/nltk_data...\n",
            "[nltk_data]    | Downloading package kimmo to /root/nltk_data...\n",
            "[nltk_data]    |   Unzipping corpora/kimmo.zip.\n",
            "[nltk_data]    | Downloading package knbc to /root/nltk_data...\n",
            "[nltk_data]    | Downloading package large_grammars to\n",
            "[nltk_data]    |     /root/nltk_data...\n",
            "[nltk_data]    |   Unzipping grammars/large_grammars.zip.\n",
            "[nltk_data]    | Downloading package lin_thesaurus to\n",
            "[nltk_data]    |     /root/nltk_data...\n",
            "[nltk_data]    |   Unzipping corpora/lin_thesaurus.zip.\n",
            "[nltk_data]    | Downloading package mac_morpho to /root/nltk_data...\n",
            "[nltk_data]    |   Unzipping corpora/mac_morpho.zip.\n",
            "[nltk_data]    | Downloading package machado to /root/nltk_data...\n",
            "[nltk_data]    | Downloading package masc_tagged to /root/nltk_data...\n",
            "[nltk_data]    | Downloading package maxent_ne_chunker to\n",
            "[nltk_data]    |     /root/nltk_data...\n",
            "[nltk_data]    |   Unzipping chunkers/maxent_ne_chunker.zip.\n",
            "[nltk_data]    | Downloading package maxent_ne_chunker_tab to\n",
            "[nltk_data]    |     /root/nltk_data...\n",
            "[nltk_data]    |   Unzipping chunkers/maxent_ne_chunker_tab.zip.\n",
            "[nltk_data]    | Downloading package maxent_treebank_pos_tagger to\n",
            "[nltk_data]    |     /root/nltk_data...\n",
            "[nltk_data]    |   Unzipping taggers/maxent_treebank_pos_tagger.zip.\n",
            "[nltk_data]    | Downloading package maxent_treebank_pos_tagger_tab to\n",
            "[nltk_data]    |     /root/nltk_data...\n",
            "[nltk_data]    |   Unzipping\n",
            "[nltk_data]    |       taggers/maxent_treebank_pos_tagger_tab.zip.\n",
            "[nltk_data]    | Downloading package mock_corpus to /root/nltk_data...\n",
            "[nltk_data]    | Downloading package moses_sample to\n",
            "[nltk_data]    |     /root/nltk_data...\n",
            "[nltk_data]    |   Unzipping models/moses_sample.zip.\n",
            "[nltk_data]    | Downloading package movie_reviews to\n",
            "[nltk_data]    |     /root/nltk_data...\n",
            "[nltk_data]    |   Unzipping corpora/movie_reviews.zip.\n",
            "[nltk_data]    | Downloading package mte_teip5 to /root/nltk_data...\n",
            "[nltk_data]    |   Unzipping corpora/mte_teip5.zip.\n",
            "[nltk_data]    | Downloading package mwa_ppdb to /root/nltk_data...\n",
            "[nltk_data]    |   Unzipping misc/mwa_ppdb.zip.\n",
            "[nltk_data]    | Downloading package names to /root/nltk_data...\n",
            "[nltk_data]    |   Unzipping corpora/names.zip.\n",
            "[nltk_data]    | Downloading package nombank.1.0 to /root/nltk_data...\n",
            "[nltk_data]    | Downloading package nonbreaking_prefixes to\n",
            "[nltk_data]    |     /root/nltk_data...\n",
            "[nltk_data]    |   Unzipping corpora/nonbreaking_prefixes.zip.\n",
            "[nltk_data]    | Downloading package nps_chat to /root/nltk_data...\n",
            "[nltk_data]    |   Unzipping corpora/nps_chat.zip.\n",
            "[nltk_data]    | Downloading package omw to /root/nltk_data...\n",
            "[nltk_data]    | Downloading package omw-1.4 to /root/nltk_data...\n",
            "[nltk_data]    | Downloading package opinion_lexicon to\n",
            "[nltk_data]    |     /root/nltk_data...\n",
            "[nltk_data]    |   Unzipping corpora/opinion_lexicon.zip.\n",
            "[nltk_data]    | Downloading package panlex_swadesh to\n",
            "[nltk_data]    |     /root/nltk_data...\n",
            "[nltk_data]    | Downloading package paradigms to /root/nltk_data...\n",
            "[nltk_data]    |   Unzipping corpora/paradigms.zip.\n",
            "[nltk_data]    | Downloading package pe08 to /root/nltk_data...\n",
            "[nltk_data]    |   Unzipping corpora/pe08.zip.\n",
            "[nltk_data]    | Downloading package perluniprops to\n",
            "[nltk_data]    |     /root/nltk_data...\n",
            "[nltk_data]    |   Unzipping misc/perluniprops.zip.\n",
            "[nltk_data]    | Downloading package pil to /root/nltk_data...\n",
            "[nltk_data]    |   Unzipping corpora/pil.zip.\n",
            "[nltk_data]    | Downloading package pl196x to /root/nltk_data...\n",
            "[nltk_data]    |   Unzipping corpora/pl196x.zip.\n",
            "[nltk_data]    | Downloading package porter_test to /root/nltk_data...\n",
            "[nltk_data]    |   Unzipping stemmers/porter_test.zip.\n",
            "[nltk_data]    | Downloading package ppattach to /root/nltk_data...\n",
            "[nltk_data]    |   Unzipping corpora/ppattach.zip.\n",
            "[nltk_data]    | Downloading package problem_reports to\n",
            "[nltk_data]    |     /root/nltk_data...\n",
            "[nltk_data]    |   Unzipping corpora/problem_reports.zip.\n",
            "[nltk_data]    | Downloading package product_reviews_1 to\n",
            "[nltk_data]    |     /root/nltk_data...\n",
            "[nltk_data]    |   Unzipping corpora/product_reviews_1.zip.\n",
            "[nltk_data]    | Downloading package product_reviews_2 to\n",
            "[nltk_data]    |     /root/nltk_data...\n",
            "[nltk_data]    |   Unzipping corpora/product_reviews_2.zip.\n",
            "[nltk_data]    | Downloading package propbank to /root/nltk_data...\n",
            "[nltk_data]    | Downloading package pros_cons to /root/nltk_data...\n",
            "[nltk_data]    |   Unzipping corpora/pros_cons.zip.\n",
            "[nltk_data]    | Downloading package ptb to /root/nltk_data...\n",
            "[nltk_data]    |   Unzipping corpora/ptb.zip.\n",
            "[nltk_data]    | Downloading package punkt to /root/nltk_data...\n",
            "[nltk_data]    |   Unzipping tokenizers/punkt.zip.\n",
            "[nltk_data]    | Downloading package punkt_tab to /root/nltk_data...\n",
            "[nltk_data]    |   Unzipping tokenizers/punkt_tab.zip.\n",
            "[nltk_data]    | Downloading package qc to /root/nltk_data...\n",
            "[nltk_data]    |   Unzipping corpora/qc.zip.\n",
            "[nltk_data]    | Downloading package reuters to /root/nltk_data...\n",
            "[nltk_data]    | Downloading package rslp to /root/nltk_data...\n",
            "[nltk_data]    |   Unzipping stemmers/rslp.zip.\n",
            "[nltk_data]    | Downloading package rte to /root/nltk_data...\n",
            "[nltk_data]    |   Unzipping corpora/rte.zip.\n",
            "[nltk_data]    | Downloading package sample_grammars to\n",
            "[nltk_data]    |     /root/nltk_data...\n",
            "[nltk_data]    |   Unzipping grammars/sample_grammars.zip.\n",
            "[nltk_data]    | Downloading package semcor to /root/nltk_data...\n",
            "[nltk_data]    | Downloading package senseval to /root/nltk_data...\n",
            "[nltk_data]    |   Unzipping corpora/senseval.zip.\n",
            "[nltk_data]    | Downloading package sentence_polarity to\n",
            "[nltk_data]    |     /root/nltk_data...\n",
            "[nltk_data]    |   Unzipping corpora/sentence_polarity.zip.\n",
            "[nltk_data]    | Downloading package sentiwordnet to\n",
            "[nltk_data]    |     /root/nltk_data...\n",
            "[nltk_data]    |   Unzipping corpora/sentiwordnet.zip.\n",
            "[nltk_data]    | Downloading package shakespeare to /root/nltk_data...\n",
            "[nltk_data]    |   Unzipping corpora/shakespeare.zip.\n",
            "[nltk_data]    | Downloading package sinica_treebank to\n",
            "[nltk_data]    |     /root/nltk_data...\n",
            "[nltk_data]    |   Unzipping corpora/sinica_treebank.zip.\n",
            "[nltk_data]    | Downloading package smultron to /root/nltk_data...\n",
            "[nltk_data]    |   Unzipping corpora/smultron.zip.\n",
            "[nltk_data]    | Downloading package snowball_data to\n",
            "[nltk_data]    |     /root/nltk_data...\n",
            "[nltk_data]    | Downloading package spanish_grammars to\n",
            "[nltk_data]    |     /root/nltk_data...\n",
            "[nltk_data]    |   Unzipping grammars/spanish_grammars.zip.\n",
            "[nltk_data]    | Downloading package state_union to /root/nltk_data...\n",
            "[nltk_data]    |   Unzipping corpora/state_union.zip.\n",
            "[nltk_data]    | Downloading package stopwords to /root/nltk_data...\n",
            "[nltk_data]    |   Unzipping corpora/stopwords.zip.\n",
            "[nltk_data]    | Downloading package subjectivity to\n",
            "[nltk_data]    |     /root/nltk_data...\n",
            "[nltk_data]    |   Unzipping corpora/subjectivity.zip.\n",
            "[nltk_data]    | Downloading package swadesh to /root/nltk_data...\n",
            "[nltk_data]    |   Unzipping corpora/swadesh.zip.\n",
            "[nltk_data]    | Downloading package switchboard to /root/nltk_data...\n",
            "[nltk_data]    |   Unzipping corpora/switchboard.zip.\n",
            "[nltk_data]    | Downloading package tagsets to /root/nltk_data...\n",
            "[nltk_data]    |   Unzipping help/tagsets.zip.\n",
            "[nltk_data]    | Downloading package tagsets_json to\n",
            "[nltk_data]    |     /root/nltk_data...\n",
            "[nltk_data]    |   Unzipping help/tagsets_json.zip.\n",
            "[nltk_data]    | Downloading package timit to /root/nltk_data...\n",
            "[nltk_data]    |   Unzipping corpora/timit.zip.\n",
            "[nltk_data]    | Downloading package toolbox to /root/nltk_data...\n",
            "[nltk_data]    |   Unzipping corpora/toolbox.zip.\n",
            "[nltk_data]    | Downloading package treebank to /root/nltk_data...\n",
            "[nltk_data]    |   Unzipping corpora/treebank.zip.\n",
            "[nltk_data]    | Downloading package twitter_samples to\n",
            "[nltk_data]    |     /root/nltk_data...\n",
            "[nltk_data]    |   Unzipping corpora/twitter_samples.zip.\n",
            "[nltk_data]    | Downloading package udhr to /root/nltk_data...\n",
            "[nltk_data]    |   Unzipping corpora/udhr.zip.\n",
            "[nltk_data]    | Downloading package udhr2 to /root/nltk_data...\n",
            "[nltk_data]    |   Unzipping corpora/udhr2.zip.\n",
            "[nltk_data]    | Downloading package unicode_samples to\n",
            "[nltk_data]    |     /root/nltk_data...\n",
            "[nltk_data]    |   Unzipping corpora/unicode_samples.zip.\n",
            "[nltk_data]    | Downloading package universal_tagset to\n",
            "[nltk_data]    |     /root/nltk_data...\n",
            "[nltk_data]    |   Unzipping taggers/universal_tagset.zip.\n",
            "[nltk_data]    | Downloading package universal_treebanks_v20 to\n",
            "[nltk_data]    |     /root/nltk_data...\n",
            "[nltk_data]    | Downloading package vader_lexicon to\n",
            "[nltk_data]    |     /root/nltk_data...\n",
            "[nltk_data]    | Downloading package verbnet to /root/nltk_data...\n",
            "[nltk_data]    |   Unzipping corpora/verbnet.zip.\n",
            "[nltk_data]    | Downloading package verbnet3 to /root/nltk_data...\n",
            "[nltk_data]    |   Unzipping corpora/verbnet3.zip.\n",
            "[nltk_data]    | Downloading package webtext to /root/nltk_data...\n",
            "[nltk_data]    |   Unzipping corpora/webtext.zip.\n",
            "[nltk_data]    | Downloading package wmt15_eval to /root/nltk_data...\n",
            "[nltk_data]    |   Unzipping models/wmt15_eval.zip.\n",
            "[nltk_data]    | Downloading package word2vec_sample to\n",
            "[nltk_data]    |     /root/nltk_data...\n",
            "[nltk_data]    |   Unzipping models/word2vec_sample.zip.\n",
            "[nltk_data]    | Downloading package wordnet to /root/nltk_data...\n",
            "[nltk_data]    | Downloading package wordnet2021 to /root/nltk_data...\n",
            "[nltk_data]    | Downloading package wordnet2022 to /root/nltk_data...\n",
            "[nltk_data]    |   Unzipping corpora/wordnet2022.zip.\n",
            "[nltk_data]    | Downloading package wordnet31 to /root/nltk_data...\n",
            "[nltk_data]    | Downloading package wordnet_ic to /root/nltk_data...\n",
            "[nltk_data]    |   Unzipping corpora/wordnet_ic.zip.\n",
            "[nltk_data]    | Downloading package words to /root/nltk_data...\n",
            "[nltk_data]    |   Unzipping corpora/words.zip.\n",
            "[nltk_data]    | Downloading package ycoe to /root/nltk_data...\n",
            "[nltk_data]    |   Unzipping corpora/ycoe.zip.\n",
            "[nltk_data]    | \n",
            "[nltk_data]  Done downloading collection all\n"
          ]
        },
        {
          "output_type": "execute_result",
          "data": {
            "text/plain": [
              "True"
            ]
          },
          "metadata": {},
          "execution_count": 4
        }
      ]
    },
    {
      "cell_type": "code",
      "source": [
        "# for example we are taking brown dataset\n",
        "from nltk.corpus import brown\n",
        "brown.words()"
      ],
      "metadata": {
        "colab": {
          "base_uri": "https://localhost:8080/"
        },
        "id": "5FNSr2IsPWCx",
        "outputId": "ce35576b-d3de-4124-e40e-39c3753d3e9f"
      },
      "execution_count": 5,
      "outputs": [
        {
          "output_type": "execute_result",
          "data": {
            "text/plain": [
              "['The', 'Fulton', 'County', 'Grand', 'Jury', 'said', ...]"
            ]
          },
          "metadata": {},
          "execution_count": 5
        }
      ]
    },
    {
      "cell_type": "code",
      "source": [
        "from nltk.corpus import gutenberg\n",
        "gutenberg.fileids()"
      ],
      "metadata": {
        "colab": {
          "base_uri": "https://localhost:8080/"
        },
        "id": "0IpjQMwvQBZ6",
        "outputId": "5674728b-19c3-43c1-c659-7d7538bb9a92"
      },
      "execution_count": 6,
      "outputs": [
        {
          "output_type": "execute_result",
          "data": {
            "text/plain": [
              "['austen-emma.txt',\n",
              " 'austen-persuasion.txt',\n",
              " 'austen-sense.txt',\n",
              " 'bible-kjv.txt',\n",
              " 'blake-poems.txt',\n",
              " 'bryant-stories.txt',\n",
              " 'burgess-busterbrown.txt',\n",
              " 'carroll-alice.txt',\n",
              " 'chesterton-ball.txt',\n",
              " 'chesterton-brown.txt',\n",
              " 'chesterton-thursday.txt',\n",
              " 'edgeworth-parents.txt',\n",
              " 'melville-moby_dick.txt',\n",
              " 'milton-paradise.txt',\n",
              " 'shakespeare-caesar.txt',\n",
              " 'shakespeare-hamlet.txt',\n",
              " 'shakespeare-macbeth.txt',\n",
              " 'whitman-leaves.txt']"
            ]
          },
          "metadata": {},
          "execution_count": 6
        }
      ]
    },
    {
      "cell_type": "code",
      "source": [
        "hamlet = gutenberg.words(\"shakespeare-hamlet.txt\")\n",
        "hamlet"
      ],
      "metadata": {
        "colab": {
          "base_uri": "https://localhost:8080/"
        },
        "id": "08G8_IR6QEPC",
        "outputId": "0cbc53db-0e6a-400c-dbf2-68f06b3d390f"
      },
      "execution_count": 7,
      "outputs": [
        {
          "output_type": "execute_result",
          "data": {
            "text/plain": [
              "['[', 'The', 'Tragedie', 'of', 'Hamlet', 'by', ...]"
            ]
          },
          "metadata": {},
          "execution_count": 7
        }
      ]
    },
    {
      "cell_type": "code",
      "source": [
        "hamlet[:500]    #taking 500 words"
      ],
      "metadata": {
        "colab": {
          "base_uri": "https://localhost:8080/"
        },
        "id": "r13e02ARQIAs",
        "outputId": "5d504aed-d206-4657-a2ef-298907843327"
      },
      "execution_count": 8,
      "outputs": [
        {
          "output_type": "execute_result",
          "data": {
            "text/plain": [
              "['[', 'The', 'Tragedie', 'of', 'Hamlet', 'by', ...]"
            ]
          },
          "metadata": {},
          "execution_count": 8
        }
      ]
    },
    {
      "cell_type": "code",
      "source": [
        "for word in hamlet[:500]:\n",
        "  print(word,sep=\" \",end=\" \")"
      ],
      "metadata": {
        "colab": {
          "base_uri": "https://localhost:8080/"
        },
        "id": "Hb6NTb1LQMiO",
        "outputId": "814f966a-dea9-4914-82aa-60e7496d74c8"
      },
      "execution_count": 9,
      "outputs": [
        {
          "output_type": "stream",
          "name": "stdout",
          "text": [
            "[ The Tragedie of Hamlet by William Shakespeare 1599 ] Actus Primus . Scoena Prima . Enter Barnardo and Francisco two Centinels . Barnardo . Who ' s there ? Fran . Nay answer me : Stand & vnfold your selfe Bar . Long liue the King Fran . Barnardo ? Bar . He Fran . You come most carefully vpon your houre Bar . ' Tis now strook twelue , get thee to bed Francisco Fran . For this releefe much thankes : ' Tis bitter cold , And I am sicke at heart Barn . Haue you had quiet Guard ? Fran . Not a Mouse stirring Barn . Well , goodnight . If you do meet Horatio and Marcellus , the Riuals of my Watch , bid them make hast . Enter Horatio and Marcellus . Fran . I thinke I heare them . Stand : who ' s there ? Hor . Friends to this ground Mar . And Leige - men to the Dane Fran . Giue you good night Mar . O farwel honest Soldier , who hath relieu ' d you ? Fra . Barnardo ha ' s my place : giue you goodnight . Exit Fran . Mar . Holla Barnardo Bar . Say , what is Horatio there ? Hor . A peece of him Bar . Welcome Horatio , welcome good Marcellus Mar . What , ha ' s this thing appear ' d againe to night Bar . I haue seene nothing Mar . Horatio saies , ' tis but our Fantasie , And will not let beleefe take hold of him Touching this dreaded sight , twice seene of vs , Therefore I haue intreated him along With vs , to watch the minutes of this Night , That if againe this Apparition come , He may approue our eyes , and speake to it Hor . Tush , tush , ' twill not appeare Bar . Sit downe a - while , And let vs once againe assaile your eares , That are so fortified against our Story , What we two Nights haue seene Hor . Well , sit we downe , And let vs heare Barnardo speake of this Barn . Last night of all , When yond same Starre that ' s Westward from the Pole Had made his course t ' illume that part of Heauen Where now it burnes , Marcellus and my selfe , The Bell then beating one Mar . Peace , breake thee of : Enter the Ghost . Looke where it comes againe Barn . In the same figure , like the King that ' s dead Mar . Thou art a Scholler ; speake to it Horatio Barn . Lookes it not like the King ? Marke it Horatio Hora . Most like : It harrowes me with fear & wonder Barn . It would be spoke too Mar . Question it Horatio Hor . What art "
          ]
        }
      ]
    },
    {
      "cell_type": "markdown",
      "source": [
        "so here above, in Corpus data is already clean. so we are taking raw data from\n",
        "wikipedia regarding data analysis subject."
      ],
      "metadata": {
        "id": "MUu5_OJHQVQC"
      }
    },
    {
      "cell_type": "code",
      "source": [
        "data = \"\"\"\n",
        "Data analysis is the process of inspecting, cleansing, transforming, and modeling data with the goal of discovering useful information, informing conclusions,\n",
        "and supporting decision-making.[1] Data analysis has multiple facets and approaches, encompassing diverse techniques under a variety of names, and is used in different business, science, and social science domains.[2]\n",
        " In today's business world, data analysis plays a role in making decisions more scientific and helping businesses operate more effectively.\n",
        "\"\"\"\n",
        ""
      ],
      "metadata": {
        "id": "CLDcsUGpQPG4"
      },
      "execution_count": 10,
      "outputs": []
    },
    {
      "cell_type": "code",
      "source": [
        "#Text Cleaning\n",
        "import re\n",
        "data = data.lower()\n",
        "pattern = r\"[^a-z. ]\"\n",
        "data_new = re.sub(pattern,\"\",data)\n",
        "data_new"
      ],
      "metadata": {
        "colab": {
          "base_uri": "https://localhost:8080/",
          "height": 70
        },
        "id": "tcabvRqAQwSh",
        "outputId": "166df2a7-402b-4939-b063-b62dde22542a"
      },
      "execution_count": 12,
      "outputs": [
        {
          "output_type": "execute_result",
          "data": {
            "text/plain": [
              "'data analysis is the process of inspecting cleansing transforming and modeling data with the goal of discovering useful information informing conclusionsand supporting decisionmaking. data analysis has multiple facets and approaches encompassing diverse techniques under a variety of names and is used in different business science and social science domains. in todays business world data analysis plays a role in making decisions more scientific and helping businesses operate more effectively.'"
            ],
            "application/vnd.google.colaboratory.intrinsic+json": {
              "type": "string"
            }
          },
          "metadata": {},
          "execution_count": 12
        }
      ]
    },
    {
      "cell_type": "code",
      "source": [
        "#Sentence Tokenize\n",
        "from nltk.tokenize import sent_tokenize\n",
        "sent_tokens = sent_tokenize(data_new)\n",
        "sent_tokens"
      ],
      "metadata": {
        "colab": {
          "base_uri": "https://localhost:8080/"
        },
        "id": "BZTKKf2WQy_N",
        "outputId": "8a6cdef5-1542-412e-87ef-080d305c3f59"
      },
      "execution_count": 13,
      "outputs": [
        {
          "output_type": "execute_result",
          "data": {
            "text/plain": [
              "['data analysis is the process of inspecting cleansing transforming and modeling data with the goal of discovering useful information informing conclusionsand supporting decisionmaking.',\n",
              " 'data analysis has multiple facets and approaches encompassing diverse techniques under a variety of names and is used in different business science and social science domains.',\n",
              " 'in todays business world data analysis plays a role in making decisions more scientific and helping businesses operate more effectively.']"
            ]
          },
          "metadata": {},
          "execution_count": 13
        }
      ]
    },
    {
      "cell_type": "code",
      "source": [
        "len(sent_tokens)"
      ],
      "metadata": {
        "colab": {
          "base_uri": "https://localhost:8080/"
        },
        "id": "QD99o1s8REti",
        "outputId": "e1d8c05e-764b-4760-ce54-5008238c32a9"
      },
      "execution_count": 16,
      "outputs": [
        {
          "output_type": "execute_result",
          "data": {
            "text/plain": [
              "3"
            ]
          },
          "metadata": {},
          "execution_count": 16
        }
      ]
    },
    {
      "cell_type": "code",
      "source": [
        "# Word Tokenize (# these tokens are generated by unigrams - 1gram- 1word token is generated)\n",
        "\n",
        "from nltk.tokenize import word_tokenize\n",
        "word_tokens = word_tokenize(data_new)\n",
        "word_tokens"
      ],
      "metadata": {
        "colab": {
          "base_uri": "https://localhost:8080/"
        },
        "id": "HfY20dTTRKx6",
        "outputId": "e56dc7a8-0409-4799-a725-b73d605e8e27"
      },
      "execution_count": 20,
      "outputs": [
        {
          "output_type": "execute_result",
          "data": {
            "text/plain": [
              "['data',\n",
              " 'analysis',\n",
              " 'is',\n",
              " 'the',\n",
              " 'process',\n",
              " 'of',\n",
              " 'inspecting',\n",
              " 'cleansing',\n",
              " 'transforming',\n",
              " 'and',\n",
              " 'modeling',\n",
              " 'data',\n",
              " 'with',\n",
              " 'the',\n",
              " 'goal',\n",
              " 'of',\n",
              " 'discovering',\n",
              " 'useful',\n",
              " 'information',\n",
              " 'informing',\n",
              " 'conclusionsand',\n",
              " 'supporting',\n",
              " 'decisionmaking',\n",
              " '.',\n",
              " 'data',\n",
              " 'analysis',\n",
              " 'has',\n",
              " 'multiple',\n",
              " 'facets',\n",
              " 'and',\n",
              " 'approaches',\n",
              " 'encompassing',\n",
              " 'diverse',\n",
              " 'techniques',\n",
              " 'under',\n",
              " 'a',\n",
              " 'variety',\n",
              " 'of',\n",
              " 'names',\n",
              " 'and',\n",
              " 'is',\n",
              " 'used',\n",
              " 'in',\n",
              " 'different',\n",
              " 'business',\n",
              " 'science',\n",
              " 'and',\n",
              " 'social',\n",
              " 'science',\n",
              " 'domains',\n",
              " '.',\n",
              " 'in',\n",
              " 'todays',\n",
              " 'business',\n",
              " 'world',\n",
              " 'data',\n",
              " 'analysis',\n",
              " 'plays',\n",
              " 'a',\n",
              " 'role',\n",
              " 'in',\n",
              " 'making',\n",
              " 'decisions',\n",
              " 'more',\n",
              " 'scientific',\n",
              " 'and',\n",
              " 'helping',\n",
              " 'businesses',\n",
              " 'operate',\n",
              " 'more',\n",
              " 'effectively',\n",
              " '.']"
            ]
          },
          "metadata": {},
          "execution_count": 20
        }
      ]
    },
    {
      "cell_type": "code",
      "source": [
        "len(word_tokens)"
      ],
      "metadata": {
        "colab": {
          "base_uri": "https://localhost:8080/"
        },
        "id": "jBby1E_ZRWRs",
        "outputId": "24521765-b392-4da5-8ab5-3a7aae8fd1a9"
      },
      "execution_count": 18,
      "outputs": [
        {
          "output_type": "execute_result",
          "data": {
            "text/plain": [
              "72"
            ]
          },
          "metadata": {},
          "execution_count": 18
        }
      ]
    },
    {
      "cell_type": "markdown",
      "source": [
        "# Bigrams(2word 'ok ok') , Trigrams(3words'ok ok ok'), Ngrams(n number of words)"
      ],
      "metadata": {
        "id": "bd2ORztCRgmC"
      }
    },
    {
      "cell_type": "code",
      "source": [
        "# bi_tokens = list(nltk.bigrams(unigram tokens)) => unigram tokens = word_tokenize(data)\n",
        "bi_tokens = list(nltk.bigrams(word_tokens))\n",
        "bi_tokens"
      ],
      "metadata": {
        "colab": {
          "base_uri": "https://localhost:8080/"
        },
        "id": "5gNzZSdzRaz_",
        "outputId": "e7bd1a16-450f-4536-aeff-f212120022fd"
      },
      "execution_count": 21,
      "outputs": [
        {
          "output_type": "execute_result",
          "data": {
            "text/plain": [
              "[('data', 'analysis'),\n",
              " ('analysis', 'is'),\n",
              " ('is', 'the'),\n",
              " ('the', 'process'),\n",
              " ('process', 'of'),\n",
              " ('of', 'inspecting'),\n",
              " ('inspecting', 'cleansing'),\n",
              " ('cleansing', 'transforming'),\n",
              " ('transforming', 'and'),\n",
              " ('and', 'modeling'),\n",
              " ('modeling', 'data'),\n",
              " ('data', 'with'),\n",
              " ('with', 'the'),\n",
              " ('the', 'goal'),\n",
              " ('goal', 'of'),\n",
              " ('of', 'discovering'),\n",
              " ('discovering', 'useful'),\n",
              " ('useful', 'information'),\n",
              " ('information', 'informing'),\n",
              " ('informing', 'conclusionsand'),\n",
              " ('conclusionsand', 'supporting'),\n",
              " ('supporting', 'decisionmaking'),\n",
              " ('decisionmaking', '.'),\n",
              " ('.', 'data'),\n",
              " ('data', 'analysis'),\n",
              " ('analysis', 'has'),\n",
              " ('has', 'multiple'),\n",
              " ('multiple', 'facets'),\n",
              " ('facets', 'and'),\n",
              " ('and', 'approaches'),\n",
              " ('approaches', 'encompassing'),\n",
              " ('encompassing', 'diverse'),\n",
              " ('diverse', 'techniques'),\n",
              " ('techniques', 'under'),\n",
              " ('under', 'a'),\n",
              " ('a', 'variety'),\n",
              " ('variety', 'of'),\n",
              " ('of', 'names'),\n",
              " ('names', 'and'),\n",
              " ('and', 'is'),\n",
              " ('is', 'used'),\n",
              " ('used', 'in'),\n",
              " ('in', 'different'),\n",
              " ('different', 'business'),\n",
              " ('business', 'science'),\n",
              " ('science', 'and'),\n",
              " ('and', 'social'),\n",
              " ('social', 'science'),\n",
              " ('science', 'domains'),\n",
              " ('domains', '.'),\n",
              " ('.', 'in'),\n",
              " ('in', 'todays'),\n",
              " ('todays', 'business'),\n",
              " ('business', 'world'),\n",
              " ('world', 'data'),\n",
              " ('data', 'analysis'),\n",
              " ('analysis', 'plays'),\n",
              " ('plays', 'a'),\n",
              " ('a', 'role'),\n",
              " ('role', 'in'),\n",
              " ('in', 'making'),\n",
              " ('making', 'decisions'),\n",
              " ('decisions', 'more'),\n",
              " ('more', 'scientific'),\n",
              " ('scientific', 'and'),\n",
              " ('and', 'helping'),\n",
              " ('helping', 'businesses'),\n",
              " ('businesses', 'operate'),\n",
              " ('operate', 'more'),\n",
              " ('more', 'effectively'),\n",
              " ('effectively', '.')]"
            ]
          },
          "metadata": {},
          "execution_count": 21
        }
      ]
    },
    {
      "cell_type": "code",
      "source": [
        "tri_tokens = list(nltk.trigrams(word_tokens))\n",
        "tri_tokens"
      ],
      "metadata": {
        "colab": {
          "base_uri": "https://localhost:8080/"
        },
        "id": "uznol81pReMz",
        "outputId": "42aca84a-d72e-418c-804b-1692b5dbbeb9"
      },
      "execution_count": 22,
      "outputs": [
        {
          "output_type": "execute_result",
          "data": {
            "text/plain": [
              "[('data', 'analysis', 'is'),\n",
              " ('analysis', 'is', 'the'),\n",
              " ('is', 'the', 'process'),\n",
              " ('the', 'process', 'of'),\n",
              " ('process', 'of', 'inspecting'),\n",
              " ('of', 'inspecting', 'cleansing'),\n",
              " ('inspecting', 'cleansing', 'transforming'),\n",
              " ('cleansing', 'transforming', 'and'),\n",
              " ('transforming', 'and', 'modeling'),\n",
              " ('and', 'modeling', 'data'),\n",
              " ('modeling', 'data', 'with'),\n",
              " ('data', 'with', 'the'),\n",
              " ('with', 'the', 'goal'),\n",
              " ('the', 'goal', 'of'),\n",
              " ('goal', 'of', 'discovering'),\n",
              " ('of', 'discovering', 'useful'),\n",
              " ('discovering', 'useful', 'information'),\n",
              " ('useful', 'information', 'informing'),\n",
              " ('information', 'informing', 'conclusionsand'),\n",
              " ('informing', 'conclusionsand', 'supporting'),\n",
              " ('conclusionsand', 'supporting', 'decisionmaking'),\n",
              " ('supporting', 'decisionmaking', '.'),\n",
              " ('decisionmaking', '.', 'data'),\n",
              " ('.', 'data', 'analysis'),\n",
              " ('data', 'analysis', 'has'),\n",
              " ('analysis', 'has', 'multiple'),\n",
              " ('has', 'multiple', 'facets'),\n",
              " ('multiple', 'facets', 'and'),\n",
              " ('facets', 'and', 'approaches'),\n",
              " ('and', 'approaches', 'encompassing'),\n",
              " ('approaches', 'encompassing', 'diverse'),\n",
              " ('encompassing', 'diverse', 'techniques'),\n",
              " ('diverse', 'techniques', 'under'),\n",
              " ('techniques', 'under', 'a'),\n",
              " ('under', 'a', 'variety'),\n",
              " ('a', 'variety', 'of'),\n",
              " ('variety', 'of', 'names'),\n",
              " ('of', 'names', 'and'),\n",
              " ('names', 'and', 'is'),\n",
              " ('and', 'is', 'used'),\n",
              " ('is', 'used', 'in'),\n",
              " ('used', 'in', 'different'),\n",
              " ('in', 'different', 'business'),\n",
              " ('different', 'business', 'science'),\n",
              " ('business', 'science', 'and'),\n",
              " ('science', 'and', 'social'),\n",
              " ('and', 'social', 'science'),\n",
              " ('social', 'science', 'domains'),\n",
              " ('science', 'domains', '.'),\n",
              " ('domains', '.', 'in'),\n",
              " ('.', 'in', 'todays'),\n",
              " ('in', 'todays', 'business'),\n",
              " ('todays', 'business', 'world'),\n",
              " ('business', 'world', 'data'),\n",
              " ('world', 'data', 'analysis'),\n",
              " ('data', 'analysis', 'plays'),\n",
              " ('analysis', 'plays', 'a'),\n",
              " ('plays', 'a', 'role'),\n",
              " ('a', 'role', 'in'),\n",
              " ('role', 'in', 'making'),\n",
              " ('in', 'making', 'decisions'),\n",
              " ('making', 'decisions', 'more'),\n",
              " ('decisions', 'more', 'scientific'),\n",
              " ('more', 'scientific', 'and'),\n",
              " ('scientific', 'and', 'helping'),\n",
              " ('and', 'helping', 'businesses'),\n",
              " ('helping', 'businesses', 'operate'),\n",
              " ('businesses', 'operate', 'more'),\n",
              " ('operate', 'more', 'effectively'),\n",
              " ('more', 'effectively', '.')]"
            ]
          },
          "metadata": {},
          "execution_count": 22
        }
      ]
    },
    {
      "cell_type": "code",
      "source": [
        "n_tokens = list(nltk.ngrams(word_tokens,n=5))\n",
        "n_tokens"
      ],
      "metadata": {
        "colab": {
          "base_uri": "https://localhost:8080/"
        },
        "id": "odUvRvmTS9pp",
        "outputId": "3080f1c2-c269-46de-963c-d8f5b49eeb08"
      },
      "execution_count": 23,
      "outputs": [
        {
          "output_type": "execute_result",
          "data": {
            "text/plain": [
              "[('data', 'analysis', 'is', 'the', 'process'),\n",
              " ('analysis', 'is', 'the', 'process', 'of'),\n",
              " ('is', 'the', 'process', 'of', 'inspecting'),\n",
              " ('the', 'process', 'of', 'inspecting', 'cleansing'),\n",
              " ('process', 'of', 'inspecting', 'cleansing', 'transforming'),\n",
              " ('of', 'inspecting', 'cleansing', 'transforming', 'and'),\n",
              " ('inspecting', 'cleansing', 'transforming', 'and', 'modeling'),\n",
              " ('cleansing', 'transforming', 'and', 'modeling', 'data'),\n",
              " ('transforming', 'and', 'modeling', 'data', 'with'),\n",
              " ('and', 'modeling', 'data', 'with', 'the'),\n",
              " ('modeling', 'data', 'with', 'the', 'goal'),\n",
              " ('data', 'with', 'the', 'goal', 'of'),\n",
              " ('with', 'the', 'goal', 'of', 'discovering'),\n",
              " ('the', 'goal', 'of', 'discovering', 'useful'),\n",
              " ('goal', 'of', 'discovering', 'useful', 'information'),\n",
              " ('of', 'discovering', 'useful', 'information', 'informing'),\n",
              " ('discovering', 'useful', 'information', 'informing', 'conclusionsand'),\n",
              " ('useful', 'information', 'informing', 'conclusionsand', 'supporting'),\n",
              " ('information',\n",
              "  'informing',\n",
              "  'conclusionsand',\n",
              "  'supporting',\n",
              "  'decisionmaking'),\n",
              " ('informing', 'conclusionsand', 'supporting', 'decisionmaking', '.'),\n",
              " ('conclusionsand', 'supporting', 'decisionmaking', '.', 'data'),\n",
              " ('supporting', 'decisionmaking', '.', 'data', 'analysis'),\n",
              " ('decisionmaking', '.', 'data', 'analysis', 'has'),\n",
              " ('.', 'data', 'analysis', 'has', 'multiple'),\n",
              " ('data', 'analysis', 'has', 'multiple', 'facets'),\n",
              " ('analysis', 'has', 'multiple', 'facets', 'and'),\n",
              " ('has', 'multiple', 'facets', 'and', 'approaches'),\n",
              " ('multiple', 'facets', 'and', 'approaches', 'encompassing'),\n",
              " ('facets', 'and', 'approaches', 'encompassing', 'diverse'),\n",
              " ('and', 'approaches', 'encompassing', 'diverse', 'techniques'),\n",
              " ('approaches', 'encompassing', 'diverse', 'techniques', 'under'),\n",
              " ('encompassing', 'diverse', 'techniques', 'under', 'a'),\n",
              " ('diverse', 'techniques', 'under', 'a', 'variety'),\n",
              " ('techniques', 'under', 'a', 'variety', 'of'),\n",
              " ('under', 'a', 'variety', 'of', 'names'),\n",
              " ('a', 'variety', 'of', 'names', 'and'),\n",
              " ('variety', 'of', 'names', 'and', 'is'),\n",
              " ('of', 'names', 'and', 'is', 'used'),\n",
              " ('names', 'and', 'is', 'used', 'in'),\n",
              " ('and', 'is', 'used', 'in', 'different'),\n",
              " ('is', 'used', 'in', 'different', 'business'),\n",
              " ('used', 'in', 'different', 'business', 'science'),\n",
              " ('in', 'different', 'business', 'science', 'and'),\n",
              " ('different', 'business', 'science', 'and', 'social'),\n",
              " ('business', 'science', 'and', 'social', 'science'),\n",
              " ('science', 'and', 'social', 'science', 'domains'),\n",
              " ('and', 'social', 'science', 'domains', '.'),\n",
              " ('social', 'science', 'domains', '.', 'in'),\n",
              " ('science', 'domains', '.', 'in', 'todays'),\n",
              " ('domains', '.', 'in', 'todays', 'business'),\n",
              " ('.', 'in', 'todays', 'business', 'world'),\n",
              " ('in', 'todays', 'business', 'world', 'data'),\n",
              " ('todays', 'business', 'world', 'data', 'analysis'),\n",
              " ('business', 'world', 'data', 'analysis', 'plays'),\n",
              " ('world', 'data', 'analysis', 'plays', 'a'),\n",
              " ('data', 'analysis', 'plays', 'a', 'role'),\n",
              " ('analysis', 'plays', 'a', 'role', 'in'),\n",
              " ('plays', 'a', 'role', 'in', 'making'),\n",
              " ('a', 'role', 'in', 'making', 'decisions'),\n",
              " ('role', 'in', 'making', 'decisions', 'more'),\n",
              " ('in', 'making', 'decisions', 'more', 'scientific'),\n",
              " ('making', 'decisions', 'more', 'scientific', 'and'),\n",
              " ('decisions', 'more', 'scientific', 'and', 'helping'),\n",
              " ('more', 'scientific', 'and', 'helping', 'businesses'),\n",
              " ('scientific', 'and', 'helping', 'businesses', 'operate'),\n",
              " ('and', 'helping', 'businesses', 'operate', 'more'),\n",
              " ('helping', 'businesses', 'operate', 'more', 'effectively'),\n",
              " ('businesses', 'operate', 'more', 'effectively', '.')]"
            ]
          },
          "metadata": {},
          "execution_count": 23
        }
      ]
    },
    {
      "cell_type": "markdown",
      "source": [
        "# Frequency Distribution : Frequency of words in sentence"
      ],
      "metadata": {
        "id": "lKMxc825TDda"
      }
    },
    {
      "cell_type": "code",
      "source": [
        "word_tokens"
      ],
      "metadata": {
        "colab": {
          "base_uri": "https://localhost:8080/"
        },
        "id": "heWU6z1aTARU",
        "outputId": "aeb2fb27-a61c-4864-a191-f939e36c7677"
      },
      "execution_count": 24,
      "outputs": [
        {
          "output_type": "execute_result",
          "data": {
            "text/plain": [
              "['data',\n",
              " 'analysis',\n",
              " 'is',\n",
              " 'the',\n",
              " 'process',\n",
              " 'of',\n",
              " 'inspecting',\n",
              " 'cleansing',\n",
              " 'transforming',\n",
              " 'and',\n",
              " 'modeling',\n",
              " 'data',\n",
              " 'with',\n",
              " 'the',\n",
              " 'goal',\n",
              " 'of',\n",
              " 'discovering',\n",
              " 'useful',\n",
              " 'information',\n",
              " 'informing',\n",
              " 'conclusionsand',\n",
              " 'supporting',\n",
              " 'decisionmaking',\n",
              " '.',\n",
              " 'data',\n",
              " 'analysis',\n",
              " 'has',\n",
              " 'multiple',\n",
              " 'facets',\n",
              " 'and',\n",
              " 'approaches',\n",
              " 'encompassing',\n",
              " 'diverse',\n",
              " 'techniques',\n",
              " 'under',\n",
              " 'a',\n",
              " 'variety',\n",
              " 'of',\n",
              " 'names',\n",
              " 'and',\n",
              " 'is',\n",
              " 'used',\n",
              " 'in',\n",
              " 'different',\n",
              " 'business',\n",
              " 'science',\n",
              " 'and',\n",
              " 'social',\n",
              " 'science',\n",
              " 'domains',\n",
              " '.',\n",
              " 'in',\n",
              " 'todays',\n",
              " 'business',\n",
              " 'world',\n",
              " 'data',\n",
              " 'analysis',\n",
              " 'plays',\n",
              " 'a',\n",
              " 'role',\n",
              " 'in',\n",
              " 'making',\n",
              " 'decisions',\n",
              " 'more',\n",
              " 'scientific',\n",
              " 'and',\n",
              " 'helping',\n",
              " 'businesses',\n",
              " 'operate',\n",
              " 'more',\n",
              " 'effectively',\n",
              " '.']"
            ]
          },
          "metadata": {},
          "execution_count": 24
        }
      ]
    },
    {
      "cell_type": "code",
      "source": [
        "from nltk.probability import FreqDist\n",
        "fdst =FreqDist()"
      ],
      "metadata": {
        "id": "jMpNkNoIUSva"
      },
      "execution_count": 25,
      "outputs": []
    },
    {
      "cell_type": "code",
      "source": [
        "for word in word_tokens:\n",
        "  fdst[word]+=1              # fdst = Frequency Distribution"
      ],
      "metadata": {
        "id": "NjqSJaTCUbLQ"
      },
      "execution_count": 29,
      "outputs": []
    },
    {
      "cell_type": "code",
      "source": [
        "fdst"
      ],
      "metadata": {
        "colab": {
          "base_uri": "https://localhost:8080/"
        },
        "id": "7ZaLMTofUnP_",
        "outputId": "1706edeb-6596-4cc0-e738-9fcdb7dd01d1"
      },
      "execution_count": 30,
      "outputs": [
        {
          "output_type": "execute_result",
          "data": {
            "text/plain": [
              "FreqDist({'and': 10, 'data': 8, 'analysis': 6, 'of': 6, '.': 6, 'in': 6, 'is': 4, 'the': 4, 'a': 4, 'business': 4, ...})"
            ]
          },
          "metadata": {},
          "execution_count": 30
        }
      ]
    },
    {
      "cell_type": "code",
      "source": [
        "fdst.most_common()[:10]"
      ],
      "metadata": {
        "colab": {
          "base_uri": "https://localhost:8080/"
        },
        "id": "HiXveJEWUxi6",
        "outputId": "71e13485-bc20-4bcd-8663-92ef0843f72b"
      },
      "execution_count": 32,
      "outputs": [
        {
          "output_type": "execute_result",
          "data": {
            "text/plain": [
              "[('and', 10),\n",
              " ('data', 8),\n",
              " ('analysis', 6),\n",
              " ('of', 6),\n",
              " ('.', 6),\n",
              " ('in', 6),\n",
              " ('is', 4),\n",
              " ('the', 4),\n",
              " ('a', 4),\n",
              " ('business', 4)]"
            ]
          },
          "metadata": {},
          "execution_count": 32
        }
      ]
    },
    {
      "cell_type": "markdown",
      "source": [
        "important keywords from above are: data, analysis, business. |\n",
        "However- and,of,in,is- these type of Stopwords are repeting most"
      ],
      "metadata": {
        "id": "wTI_gRJKVC_D"
      }
    },
    {
      "cell_type": "markdown",
      "source": [
        "# Removing Stopwords"
      ],
      "metadata": {
        "id": "IVO0glyCV-gM"
      }
    },
    {
      "cell_type": "code",
      "source": [
        "from nltk.corpus import stopwords\n",
        "stop = stopwords.words('english') # mention the language\n"
      ],
      "metadata": {
        "id": "82b86xSyUzvl"
      },
      "execution_count": 35,
      "outputs": []
    },
    {
      "cell_type": "markdown",
      "source": [
        "In Corpus we already have dataset present which includes stopwords in English. Firstly we import that and then we can remove this from our data(word_tokens)"
      ],
      "metadata": {
        "id": "0uXwc1uHW1Dl"
      }
    },
    {
      "cell_type": "code",
      "source": [
        "stop[:10]    # showing first 10 stopwords"
      ],
      "metadata": {
        "colab": {
          "base_uri": "https://localhost:8080/"
        },
        "id": "P4PjB-i2WVZC",
        "outputId": "1bdd61aa-062e-47d5-b326-fe83c7a3fad6"
      },
      "execution_count": 39,
      "outputs": [
        {
          "output_type": "execute_result",
          "data": {
            "text/plain": [
              "['a', 'about', 'above', 'after', 'again', 'against', 'ain', 'all', 'am', 'an']"
            ]
          },
          "metadata": {},
          "execution_count": 39
        }
      ]
    },
    {
      "cell_type": "code",
      "source": [
        "print(word_tokens)"
      ],
      "metadata": {
        "colab": {
          "base_uri": "https://localhost:8080/"
        },
        "id": "KWc-PsGyWibh",
        "outputId": "43e566db-b69a-4e63-a73e-b81d36b0a3b3"
      },
      "execution_count": 42,
      "outputs": [
        {
          "output_type": "stream",
          "name": "stdout",
          "text": [
            "['data', 'analysis', 'is', 'the', 'process', 'of', 'inspecting', 'cleansing', 'transforming', 'and', 'modeling', 'data', 'with', 'the', 'goal', 'of', 'discovering', 'useful', 'information', 'informing', 'conclusionsand', 'supporting', 'decisionmaking', '.', 'data', 'analysis', 'has', 'multiple', 'facets', 'and', 'approaches', 'encompassing', 'diverse', 'techniques', 'under', 'a', 'variety', 'of', 'names', 'and', 'is', 'used', 'in', 'different', 'business', 'science', 'and', 'social', 'science', 'domains', '.', 'in', 'todays', 'business', 'world', 'data', 'analysis', 'plays', 'a', 'role', 'in', 'making', 'decisions', 'more', 'scientific', 'and', 'helping', 'businesses', 'operate', 'more', 'effectively', '.']\n"
          ]
        }
      ]
    },
    {
      "cell_type": "code",
      "source": [
        "len(word_tokens)"
      ],
      "metadata": {
        "colab": {
          "base_uri": "https://localhost:8080/"
        },
        "id": "2vttBLEgXYwb",
        "outputId": "57939f42-368e-4484-ccc8-c4cc01a5cd59"
      },
      "execution_count": 43,
      "outputs": [
        {
          "output_type": "execute_result",
          "data": {
            "text/plain": [
              "72"
            ]
          },
          "metadata": {},
          "execution_count": 43
        }
      ]
    },
    {
      "cell_type": "code",
      "source": [
        "filtered_words = []\n",
        "for word in word_tokens:\n",
        "  if word not in stop:\n",
        "    filtered_words.append(word)\n",
        "print(filtered_words)"
      ],
      "metadata": {
        "colab": {
          "base_uri": "https://localhost:8080/"
        },
        "id": "5vd4jeO9XeaI",
        "outputId": "8f1ca4b4-545d-4919-87fc-036c5e6fb9f9"
      },
      "execution_count": 44,
      "outputs": [
        {
          "output_type": "stream",
          "name": "stdout",
          "text": [
            "['data', 'analysis', 'process', 'inspecting', 'cleansing', 'transforming', 'modeling', 'data', 'goal', 'discovering', 'useful', 'information', 'informing', 'conclusionsand', 'supporting', 'decisionmaking', '.', 'data', 'analysis', 'multiple', 'facets', 'approaches', 'encompassing', 'diverse', 'techniques', 'variety', 'names', 'used', 'different', 'business', 'science', 'social', 'science', 'domains', '.', 'todays', 'business', 'world', 'data', 'analysis', 'plays', 'role', 'making', 'decisions', 'scientific', 'helping', 'businesses', 'operate', 'effectively', '.']\n"
          ]
        }
      ]
    },
    {
      "cell_type": "code",
      "source": [
        "len(filtered_words)"
      ],
      "metadata": {
        "colab": {
          "base_uri": "https://localhost:8080/"
        },
        "id": "csjn-bNSXkwm",
        "outputId": "900806fa-caca-432b-9453-766674d0ef3a"
      },
      "execution_count": 45,
      "outputs": [
        {
          "output_type": "execute_result",
          "data": {
            "text/plain": [
              "50"
            ]
          },
          "metadata": {},
          "execution_count": 45
        }
      ]
    },
    {
      "cell_type": "markdown",
      "source": [
        "# Stemming\n",
        " Thre are 3 stemming techniques"
      ],
      "metadata": {
        "id": "BzaqSzOBXr66"
      }
    },
    {
      "cell_type": "markdown",
      "source": [
        "# 1) Porter Stemmer"
      ],
      "metadata": {
        "id": "XXsX1hs1X8-_"
      }
    },
    {
      "cell_type": "code",
      "source": [
        "from nltk.stem import PorterStemmer\n",
        "\n",
        "data = [\"easily\",\"walking\",\"happiness\",\"given\",\"marked\",\"inspecting\"]\n",
        "\n",
        "ps = PorterStemmer()\n",
        "\n",
        "ps_data = [ps.stem(word) for word in data]\n",
        "ps_data"
      ],
      "metadata": {
        "colab": {
          "base_uri": "https://localhost:8080/"
        },
        "id": "EuyT5mdlXmuX",
        "outputId": "7a0d8f74-c355-45be-bf7b-e9e1d5270c4c"
      },
      "execution_count": 50,
      "outputs": [
        {
          "output_type": "execute_result",
          "data": {
            "text/plain": [
              "['easili', 'walk', 'happi', 'given', 'mark', 'inspect']"
            ]
          },
          "metadata": {},
          "execution_count": 50
        }
      ]
    },
    {
      "cell_type": "markdown",
      "source": [
        "# 2) Snowball Stemmer"
      ],
      "metadata": {
        "id": "ByWYvbpZY9GA"
      }
    },
    {
      "cell_type": "code",
      "source": [
        "from nltk.stem import SnowballStemmer\n",
        "\n",
        "words = [\"easily\",\"walking\",\"happiness\",\"given\",\"marked\",\"inspecting\"]\n",
        "\n",
        "ss = SnowballStemmer(language='english')\n",
        "\n",
        "ss_words = [ss.stem(word) for word in words]\n",
        "ss_words"
      ],
      "metadata": {
        "colab": {
          "base_uri": "https://localhost:8080/"
        },
        "id": "EVlDOZClYBCX",
        "outputId": "9bd6d6e7-1162-4ed2-84cd-3b3823cec8c9"
      },
      "execution_count": 51,
      "outputs": [
        {
          "output_type": "execute_result",
          "data": {
            "text/plain": [
              "['easili', 'walk', 'happi', 'given', 'mark', 'inspect']"
            ]
          },
          "metadata": {},
          "execution_count": 51
        }
      ]
    },
    {
      "cell_type": "markdown",
      "source": [
        "# 3) Lancaster Stemmer"
      ],
      "metadata": {
        "id": "P9nHtb5jZz_A"
      }
    },
    {
      "cell_type": "code",
      "source": [
        "from nltk.stem import LancasterStemmer\n",
        "\n",
        "words = [\"easily\",\"walking\",\"happiness\",\"given\",\"marked\",\"inspecting\"]\n",
        "\n",
        "ls = LancasterStemmer()\n",
        "\n",
        "ls_words = [ls.stem(word) for word in words]\n",
        "ls_words"
      ],
      "metadata": {
        "colab": {
          "base_uri": "https://localhost:8080/"
        },
        "id": "nPly09yWZMxn",
        "outputId": "b5b0d52e-53ac-4a7a-e17c-8638a7e7d866"
      },
      "execution_count": 52,
      "outputs": [
        {
          "output_type": "execute_result",
          "data": {
            "text/plain": [
              "['easy', 'walk', 'happy', 'giv', 'mark', 'inspect']"
            ]
          },
          "metadata": {},
          "execution_count": 52
        }
      ]
    },
    {
      "cell_type": "markdown",
      "source": [
        "## Lemmatization : use Dictionary to guess word"
      ],
      "metadata": {
        "id": "gTrPLR0UZ8jI"
      }
    },
    {
      "cell_type": "code",
      "source": [
        "# by default, wordnet lemmatizer considers noun as default parts of speech\n",
        "from nltk.stem import WordNetLemmatizer\n",
        "\n",
        "word_lem = WordNetLemmatizer()\n",
        "words =[\"easily\",\"walking\",\"happiness\",\"given\",\"marked\",\"inspecting\"]\n",
        "\n",
        "lemma_words = [word_lem.lemmatize(word) for word in words]\n",
        "lemma_words"
      ],
      "metadata": {
        "colab": {
          "base_uri": "https://localhost:8080/"
        },
        "id": "Vw0v-ruNZ4tw",
        "outputId": "28c67bb2-0e3b-425b-d483-d6c5680f2a22"
      },
      "execution_count": 53,
      "outputs": [
        {
          "output_type": "execute_result",
          "data": {
            "text/plain": [
              "['easily', 'walking', 'happiness', 'given', 'marked', 'inspecting']"
            ]
          },
          "metadata": {},
          "execution_count": 53
        }
      ]
    },
    {
      "cell_type": "code",
      "source": [
        "from nltk.stem import WordNetLemmatizer\n",
        "\n",
        "word_lem = WordNetLemmatizer()\n",
        "\n",
        "words =[\"easily\",\"walking\",\"happiness\",\"given\",\"marked\",\"inspecting\"]\n",
        "\n",
        "lemma_words = [word_lem.lemmatize(word,pos='v') for word in words]       # pos='v' parts of speech\n",
        "lemma_words"
      ],
      "metadata": {
        "colab": {
          "base_uri": "https://localhost:8080/"
        },
        "id": "wX8oBNs_apAA",
        "outputId": "4b691ba7-66d7-4a43-fd0d-371f3a1bc586"
      },
      "execution_count": 54,
      "outputs": [
        {
          "output_type": "execute_result",
          "data": {
            "text/plain": [
              "['easily', 'walk', 'happiness', 'give', 'mark', 'inspect']"
            ]
          },
          "metadata": {},
          "execution_count": 54
        }
      ]
    },
    {
      "cell_type": "markdown",
      "source": [
        "# **Vectorizer**\n",
        "1. Count Vectorizer\n",
        "2. TFIDF - Term Frequency, Inverse Document Frequency"
      ],
      "metadata": {
        "id": "kTJasPCScmGF"
      }
    },
    {
      "cell_type": "markdown",
      "source": [
        "#Count Vectorizer- Bag of words\n",
        " Bag of words(words ki bag)"
      ],
      "metadata": {
        "id": "e9ivsSuAdjBi"
      }
    },
    {
      "cell_type": "code",
      "source": [
        "from sklearn.feature_extraction.text import CountVectorizer\n",
        "cv = CountVectorizer()"
      ],
      "metadata": {
        "id": "dtsiuzhEa66z"
      },
      "execution_count": 55,
      "outputs": []
    },
    {
      "cell_type": "code",
      "source": [
        "data_new"
      ],
      "metadata": {
        "colab": {
          "base_uri": "https://localhost:8080/",
          "height": 70
        },
        "id": "wXQKgHgBd2iv",
        "outputId": "e27f1e66-e248-41c6-b6ca-ef597251be51"
      },
      "execution_count": 56,
      "outputs": [
        {
          "output_type": "execute_result",
          "data": {
            "text/plain": [
              "'data analysis is the process of inspecting cleansing transforming and modeling data with the goal of discovering useful information informing conclusionsand supporting decisionmaking. data analysis has multiple facets and approaches encompassing diverse techniques under a variety of names and is used in different business science and social science domains. in todays business world data analysis plays a role in making decisions more scientific and helping businesses operate more effectively.'"
            ],
            "application/vnd.google.colaboratory.intrinsic+json": {
              "type": "string"
            }
          },
          "metadata": {},
          "execution_count": 56
        }
      ]
    },
    {
      "cell_type": "code",
      "source": [
        "bow_content = cv.fit_transform([data_new]).toarray()\n",
        "bow_content      #bow : bag of word"
      ],
      "metadata": {
        "colab": {
          "base_uri": "https://localhost:8080/"
        },
        "id": "wUSae78zd4Rc",
        "outputId": "ad93be16-faf9-44bf-ca8a-180824adcabe"
      },
      "execution_count": 59,
      "outputs": [
        {
          "output_type": "execute_result",
          "data": {
            "text/plain": [
              "array([[3, 5, 1, 2, 1, 1, 1, 4, 1, 1, 1, 1, 1, 1, 1, 1, 1, 1, 1, 1, 3, 1,\n",
              "        1, 1, 2, 1, 1, 2, 1, 1, 3, 1, 1, 1, 1, 2, 1, 1, 1, 1, 2, 1, 1, 1,\n",
              "        1, 1, 1, 1, 1]])"
            ]
          },
          "metadata": {},
          "execution_count": 59
        }
      ]
    },
    {
      "cell_type": "markdown",
      "source": [
        "data ka count 3, analysis ka count 5 times, is 1time , the 2 time aaya hai in newdata"
      ],
      "metadata": {
        "id": "UnOjFkLnd69F"
      }
    },
    {
      "cell_type": "code",
      "source": [
        "from sklearn.feature_extraction.text import TfidfVectorizer\n",
        "tf = TfidfVectorizer()\n",
        "tf.fit_transform([data_new]).toarray()"
      ],
      "metadata": {
        "colab": {
          "base_uri": "https://localhost:8080/"
        },
        "id": "fmdYNLLxd5-9",
        "outputId": "2ae5d8fe-92dc-45f7-ce0f-ec3b8411e8cd"
      },
      "execution_count": 63,
      "outputs": [
        {
          "output_type": "execute_result",
          "data": {
            "text/plain": [
              "array([[0.26620695, 0.44367825, 0.08873565, 0.1774713 , 0.08873565,\n",
              "        0.08873565, 0.08873565, 0.3549426 , 0.08873565, 0.08873565,\n",
              "        0.08873565, 0.08873565, 0.08873565, 0.08873565, 0.08873565,\n",
              "        0.08873565, 0.08873565, 0.08873565, 0.08873565, 0.08873565,\n",
              "        0.26620695, 0.08873565, 0.08873565, 0.08873565, 0.1774713 ,\n",
              "        0.08873565, 0.08873565, 0.1774713 , 0.08873565, 0.08873565,\n",
              "        0.26620695, 0.08873565, 0.08873565, 0.08873565, 0.08873565,\n",
              "        0.1774713 , 0.08873565, 0.08873565, 0.08873565, 0.08873565,\n",
              "        0.1774713 , 0.08873565, 0.08873565, 0.08873565, 0.08873565,\n",
              "        0.08873565, 0.08873565, 0.08873565, 0.08873565]])"
            ]
          },
          "metadata": {},
          "execution_count": 63
        }
      ]
    },
    {
      "cell_type": "code",
      "source": [],
      "metadata": {
        "id": "unRCYozSePqv"
      },
      "execution_count": null,
      "outputs": []
    }
  ]
}